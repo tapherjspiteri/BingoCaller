{
  "nbformat": 4,
  "nbformat_minor": 0,
  "metadata": {
    "colab": {
      "name": "PD_Tuts1.ipynb",
      "provenance": [],
      "authorship_tag": "ABX9TyOQdK4IpQDIw63tx8rEL8pN",
      "include_colab_link": true
    },
    "kernelspec": {
      "name": "python3",
      "display_name": "Python 3"
    }
  },
  "cells": [
    {
      "cell_type": "markdown",
      "metadata": {
        "id": "view-in-github",
        "colab_type": "text"
      },
      "source": [
        "<a href=\"https://colab.research.google.com/github/tapherjspiteri/BingoCaller/blob/master/PD_Tuts1.ipynb\" target=\"_parent\"><img src=\"https://colab.research.google.com/assets/colab-badge.svg\" alt=\"Open In Colab\"/></a>"
      ]
    },
    {
      "cell_type": "code",
      "metadata": {
        "id": "5tc8HudkNGPN"
      },
      "source": [
        ""
      ],
      "execution_count": null,
      "outputs": []
    },
    {
      "cell_type": "markdown",
      "metadata": {
        "id": "jTqcROxSNKBh"
      },
      "source": [
        "This is my first time using Colab, hope I like it :), hope it likes me. ;)\r\n"
      ]
    },
    {
      "cell_type": "code",
      "metadata": {
        "id": "UadJVNtCNPlv"
      },
      "source": [
        ""
      ],
      "execution_count": null,
      "outputs": []
    }
  ]
}